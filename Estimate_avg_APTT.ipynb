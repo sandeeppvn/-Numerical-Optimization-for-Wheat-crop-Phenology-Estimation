{
 "cells": [
  {
   "cell_type": "code",
   "execution_count": 4,
   "id": "7eab76b3",
   "metadata": {},
   "outputs": [],
   "source": [
    "import re\n",
    "import sys\n",
    "import time\n",
    "import math\n",
    "import os\n",
    "import numpy as np\n",
    "from numpy.lib.function_base import diff\n",
    "import pandas as pd\n",
    "import rasterio\n",
    "from tqdm import tqdm"
   ]
  },
  {
   "cell_type": "code",
   "execution_count": 6,
   "id": "1d5cfeb7",
   "metadata": {},
   "outputs": [],
   "source": [
    "years = [2008, 2009, 2010, 2011, 2012, 2013, 2014, 2015, 2016]\n",
    "first_active_greenup = [309, 319, 297, 308, 319, 301, 294, 302, 307]\n",
    "second_active_greenup = [105, 96, 80, 77, 89, 88, 96, 62, 87]\n",
    "end_of_senescence = [155, 151, 153, 133, 157, 170, 154, 154, 150]\n",
    "\n",
    "emergence = [291, 293, 291, 289, 292, 291, 292, 292, 291]\n",
    "joint = [110, 111, 109, 89, 115, 114, 109, 100, 103]\n",
    "heading = [135, 134, 133, 114, 143, 133, 126, 123, 127]\n",
    "turning = [159, 159, 157, 139, 164, 157, 158, 153, 154]\n",
    "ripening = [174, 172, 171, 152, 176, 172, 174, 170, 169]\n",
    "harvesting = [181, 179, 178, 162, 182, 185, 181, 178, 179]\n"
   ]
  },
  {
   "cell_type": "code",
   "execution_count": 25,
   "id": "103fc598",
   "metadata": {},
   "outputs": [
    {
     "name": "stderr",
     "output_type": "stream",
     "text": [
      "1it [00:00,  1.08it/s]"
     ]
    },
    {
     "name": "stdout",
     "output_type": "stream",
     "text": [
      "2008-2009 growing season:\n",
      "Emergence->first greenup: 9.133575921719379\n",
      "second_greenup->joint: 1.0693853748034248\n",
      "end of senescence->ripening: 11.611887995806395\n"
     ]
    },
    {
     "name": "stderr",
     "output_type": "stream",
     "text": [
      "\r\n",
      "2it [00:01,  1.21it/s]"
     ]
    },
    {
     "name": "stdout",
     "output_type": "stream",
     "text": [
      "2009-2010 growing season:\n",
      "Emergence->first greenup: 11.583075310152019\n",
      "second_greenup->joint: 4.183804385811637\n",
      "end of senescence->ripening: 14.155516337585183\n"
     ]
    },
    {
     "name": "stderr",
     "output_type": "stream",
     "text": [
      "\r\n",
      "3it [00:02,  1.21it/s]"
     ]
    },
    {
     "name": "stdout",
     "output_type": "stream",
     "text": [
      "2010-2011 growing season:\n",
      "Emergence->first greenup: 4.868633146950899\n",
      "second_greenup->joint: 6.150327188537481\n",
      "end of senescence->ripening: 12.511139262624498\n"
     ]
    },
    {
     "name": "stderr",
     "output_type": "stream",
     "text": [
      "\r\n",
      "4it [00:03,  1.20it/s]"
     ]
    },
    {
     "name": "stdout",
     "output_type": "stream",
     "text": [
      "2011-2012 growing season:\n",
      "Emergence->first greenup: 8.181440677966101\n",
      "second_greenup->joint: 4.728307705748733\n",
      "end of senescence->ripening: 10.962993185392277\n"
     ]
    },
    {
     "name": "stderr",
     "output_type": "stream",
     "text": [
      "\r\n",
      "5it [00:04,  1.22it/s]"
     ]
    },
    {
     "name": "stdout",
     "output_type": "stream",
     "text": [
      "2012-2013 growing season:\n",
      "Emergence->first greenup: 11.85594880307531\n",
      "second_greenup->joint: 2.668092128254412\n",
      "end of senescence->ripening: 12.619995631661716\n"
     ]
    },
    {
     "name": "stderr",
     "output_type": "stream",
     "text": [
      "\r\n",
      "6it [00:04,  1.21it/s]"
     ]
    },
    {
     "name": "stdout",
     "output_type": "stream",
     "text": [
      "2013-2014 growing season:\n",
      "Emergence->first greenup: 3.551086842565088\n",
      "second_greenup->joint: 5.117879171763061\n",
      "end of senescence->ripening: 2.0029737462869126\n"
     ]
    },
    {
     "name": "stderr",
     "output_type": "stream",
     "text": [
      "\r\n",
      "7it [00:05,  1.22it/s]"
     ]
    },
    {
     "name": "stdout",
     "output_type": "stream",
     "text": [
      "2014-2015 growing season:\n",
      "Emergence->first greenup: 2.11069434737026\n",
      "second_greenup->joint: 4.084506814607723\n",
      "end of senescence->ripening: 13.442482089813035\n"
     ]
    },
    {
     "name": "stderr",
     "output_type": "stream",
     "text": [
      "\r\n",
      "8it [00:06,  1.24it/s]"
     ]
    },
    {
     "name": "stdout",
     "output_type": "stream",
     "text": [
      "2015-2016 growing season:\n",
      "Emergence->first greenup: 6.758246985846584\n",
      "second_greenup->joint: 4.802347544993884\n",
      "end of senescence->ripening: 10.816168093657172\n"
     ]
    },
    {
     "name": "stderr",
     "output_type": "stream",
     "text": [
      "9it [00:07,  1.22it/s]"
     ]
    },
    {
     "name": "stdout",
     "output_type": "stream",
     "text": [
      "2016-2017 growing season:\n",
      "Emergence->first greenup: 12.916486982351913\n",
      "second_greenup->joint: 2.7862633234317666\n",
      "end of senescence->ripening: 12.254049449589376\n"
     ]
    },
    {
     "name": "stderr",
     "output_type": "stream",
     "text": [
      "\n"
     ]
    }
   ],
   "source": [
    "# doy 273 is index 181 in aptt\n",
    "for i, year in tqdm(enumerate(years)):\n",
    "    aptt_veg_path = '/gpfs/data1/cmongp/pridhviM/percentage_wheat_rasters_aea/APTT_winterwheat/APTT_winterwheat_vegetative_phase_'+str(year)+'.tif'\n",
    "    aptt_rep_path = '/gpfs/data1/cmongp/pridhviM/percentage_wheat_rasters_aea/APTT_winterwheat/APTT_winterwheat_reproductive_phase_'+str(year+1)+'.tif'\n",
    "\n",
    "    raster1=rasterio.open(aptt_veg_path)\n",
    "    aptt1=raster1.read()\n",
    "    raster2=rasterio.open(aptt_rep_path)\n",
    "    aptt2=raster2.read()\n",
    "    \n",
    "    emergence_to_first_greenup = np.sum(aptt1[(181-273+emergence[i]):(181-273+first_active_greenup[i]+1)], 0)\n",
    "    emergence_to_first_greenup_value = np.true_divide(emergence_to_first_greenup.sum(),(emergence_to_first_greenup!=0).sum())\n",
    "    \n",
    "    # doy 180 corresponds to index 179 of aptt2\n",
    "    joint_to_second_greenup = np.sum(aptt2[(second_active_greenup[i]-1):joint[i]], 0)\n",
    "    joint_to_second_greenup_value = np.true_divide(joint_to_second_greenup.sum(),(joint_to_second_greenup!=0).sum())\n",
    "    \n",
    "    ripening_to_end_of_senescence = np.sum(aptt2[(end_of_senescence[i]-1):ripening[i]], 0)\n",
    "    ripening_to_end_of_senescence_value = np.true_divide(ripening_to_end_of_senescence.sum(),(ripening_to_end_of_senescence!=0).sum())\n",
    "\n",
    "    print(str(year)+'-'+str(year+1)+' growing season:')\n",
    "    print('Emergence->first greenup: '+str(emergence_to_first_greenup_value))\n",
    "    print('second_greenup->joint: '+str(joint_to_second_greenup_value))\n",
    "    print('end of senescence->ripening: '+str(ripening_to_end_of_senescence_value))\n",
    "\n",
    "    "
   ]
  },
  {
   "cell_type": "code",
   "execution_count": 24,
   "id": "c32ebd3a",
   "metadata": {},
   "outputs": [
    {
     "data": {
      "text/plain": [
       "0.0"
      ]
     },
     "execution_count": 24,
     "metadata": {},
     "output_type": "execute_result"
    }
   ],
   "source": [
    "np.nansum(ripening_to_end_of_senescence)"
   ]
  },
  {
   "cell_type": "code",
   "execution_count": 15,
   "id": "db8a18cf",
   "metadata": {},
   "outputs": [
    {
     "data": {
      "text/plain": [
       "(199, 216, (17, 443, 693))"
      ]
     },
     "execution_count": 15,
     "metadata": {},
     "output_type": "execute_result"
    }
   ],
   "source": [
    "(181-273+emergence[i]), (181-273+first_active_greenup[i]+1), aptt1[(181-273+emergence[i]):(181-273+first_active_greenup[i]+1)].shape"
   ]
  },
  {
   "cell_type": "code",
   "execution_count": 17,
   "id": "a69cb2f8",
   "metadata": {},
   "outputs": [
    {
     "data": {
      "text/plain": [
       "array([[[0.        , 0.        , 0.        , ..., 0.        ,\n",
       "         0.        , 0.        ],\n",
       "        [0.        , 0.        , 0.        , ..., 0.        ,\n",
       "         0.        , 0.        ],\n",
       "        [0.        , 0.        , 0.        , ..., 0.        ,\n",
       "         0.        , 0.        ],\n",
       "        ...,\n",
       "        [0.99635404, 0.9967047 , 0.99691516, ..., 0.        ,\n",
       "         0.        , 0.        ],\n",
       "        [0.        , 0.        , 0.        , ..., 0.        ,\n",
       "         0.        , 0.        ],\n",
       "        [0.        , 0.        , 0.        , ..., 0.        ,\n",
       "         0.        , 0.        ]],\n",
       "\n",
       "       [[0.        , 0.        , 0.        , ..., 0.        ,\n",
       "         0.        , 0.        ],\n",
       "        [0.        , 0.        , 0.        , ..., 0.        ,\n",
       "         0.        , 0.        ],\n",
       "        [0.        , 0.        , 0.        , ..., 0.        ,\n",
       "         0.        , 0.        ],\n",
       "        ...,\n",
       "        [0.75959677, 0.76125145, 0.762628  , ..., 0.        ,\n",
       "         0.        , 0.        ],\n",
       "        [0.        , 0.        , 0.        , ..., 0.        ,\n",
       "         0.        , 0.        ],\n",
       "        [0.        , 0.        , 0.        , ..., 0.        ,\n",
       "         0.        , 0.        ]],\n",
       "\n",
       "       [[0.        , 0.        , 0.        , ..., 0.        ,\n",
       "         0.        , 0.        ],\n",
       "        [0.        , 0.        , 0.        , ..., 0.        ,\n",
       "         0.        , 0.        ],\n",
       "        [0.        , 0.        , 0.        , ..., 0.        ,\n",
       "         0.        , 0.        ],\n",
       "        ...,\n",
       "        [0.5736078 , 0.5745335 , 0.57515067, ..., 0.        ,\n",
       "         0.        , 0.        ],\n",
       "        [0.        , 0.        , 0.        , ..., 0.        ,\n",
       "         0.        , 0.        ],\n",
       "        [0.        , 0.        , 0.        , ..., 0.        ,\n",
       "         0.        , 0.        ]],\n",
       "\n",
       "       ...,\n",
       "\n",
       "       [[0.        , 0.        , 0.        , ..., 0.        ,\n",
       "         0.        , 0.        ],\n",
       "        [0.        , 0.        , 0.        , ..., 0.        ,\n",
       "         0.        , 0.        ],\n",
       "        [0.        , 0.        , 0.        , ..., 0.        ,\n",
       "         0.        , 0.        ],\n",
       "        ...,\n",
       "        [0.878226  , 0.87910354, 0.87954134, ..., 0.        ,\n",
       "         0.        , 0.        ],\n",
       "        [0.        , 0.        , 0.        , ..., 0.        ,\n",
       "         0.        , 0.        ],\n",
       "        [0.        , 0.        , 0.        , ..., 0.        ,\n",
       "         0.        , 0.        ]],\n",
       "\n",
       "       [[0.        , 0.        , 0.        , ..., 0.        ,\n",
       "         0.        , 0.        ],\n",
       "        [0.        , 0.        , 0.        , ..., 0.        ,\n",
       "         0.        , 0.        ],\n",
       "        [0.        , 0.        , 0.        , ..., 0.        ,\n",
       "         0.        , 0.        ],\n",
       "        ...,\n",
       "        [0.7623529 , 0.7637278 , 0.7645516 , ..., 0.        ,\n",
       "         0.        , 0.        ],\n",
       "        [0.        , 0.        , 0.        , ..., 0.        ,\n",
       "         0.        , 0.        ],\n",
       "        [0.        , 0.        , 0.        , ..., 0.        ,\n",
       "         0.        , 0.        ]],\n",
       "\n",
       "       [[0.        , 0.        , 0.        , ..., 0.        ,\n",
       "         0.        , 0.        ],\n",
       "        [0.        , 0.        , 0.        , ..., 0.        ,\n",
       "         0.        , 0.        ],\n",
       "        [0.        , 0.        , 0.        , ..., 0.        ,\n",
       "         0.        , 0.        ],\n",
       "        ...,\n",
       "        [0.5745335 , 0.5757675 , 0.5770014 , ..., 0.        ,\n",
       "         0.        , 0.        ],\n",
       "        [0.        , 0.        , 0.        , ..., 0.        ,\n",
       "         0.        , 0.        ],\n",
       "        [0.        , 0.        , 0.        , ..., 0.        ,\n",
       "         0.        , 0.        ]]], dtype=float32)"
      ]
     },
     "execution_count": 17,
     "metadata": {},
     "output_type": "execute_result"
    }
   ],
   "source": [
    "aptt1[(181-273+emergence[i]):(181-273+first_active_greenup[i]+1)]"
   ]
  },
  {
   "cell_type": "code",
   "execution_count": 18,
   "id": "1d13248a",
   "metadata": {},
   "outputs": [
    {
     "data": {
      "text/plain": [
       "286150"
      ]
     },
     "execution_count": 18,
     "metadata": {},
     "output_type": "execute_result"
    }
   ],
   "source": [
    "(emergence_to_first_greenup!=0).sum()"
   ]
  },
  {
   "cell_type": "code",
   "execution_count": 19,
   "id": "dae67f09",
   "metadata": {},
   "outputs": [
    {
     "data": {
      "text/plain": [
       "4072748.0"
      ]
     },
     "execution_count": 19,
     "metadata": {},
     "output_type": "execute_result"
    }
   ],
   "source": [
    "emergence_to_first_greenup.sum()"
   ]
  },
  {
   "cell_type": "code",
   "execution_count": null,
   "id": "76fa77b1",
   "metadata": {},
   "outputs": [],
   "source": []
  }
 ],
 "metadata": {
  "kernelspec": {
   "display_name": "Python 3.9.7 ('torch')",
   "language": "python",
   "name": "python3"
  },
  "language_info": {
   "codemirror_mode": {
    "name": "ipython",
    "version": 3
   },
   "file_extension": ".py",
   "mimetype": "text/x-python",
   "name": "python",
   "nbconvert_exporter": "python",
   "pygments_lexer": "ipython3",
   "version": "3.9.7"
  },
  "vscode": {
   "interpreter": {
    "hash": "ac0de59e41daaff3652b5e35e9c975324a21be3dd4348ffe44afaedd082b8702"
   }
  }
 },
 "nbformat": 4,
 "nbformat_minor": 5
}
